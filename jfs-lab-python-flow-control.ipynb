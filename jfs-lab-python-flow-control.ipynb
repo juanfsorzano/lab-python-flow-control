{
 "cells": [
  {
   "cell_type": "markdown",
   "metadata": {},
   "source": [
    "# Lab | Flow Control"
   ]
  },
  {
   "cell_type": "markdown",
   "metadata": {},
   "source": [
    "## Exercise: Managing Customer Orders Optimized\n",
    "\n",
    "In the last lab, you were starting an online store that sells various products. To ensure smooth operations, you developed a program that manages customer orders and inventory.\n",
    "\n",
    "You did so without using flow control. Let's go a step further and improve this code.\n",
    "\n",
    "Follow the steps below to complete the exercise:\n",
    "\n",
    "1. Look at your code from the lab data structures, and improve repeated code with loops.\n",
    "\n",
    "2. Instead of asking the user to input the name of three products that a customer wants to order, do the following:\n",
    "    \n",
    "    a. Prompt the user to enter the name of a product that a customer wants to order.\n",
    "    \n",
    "    b. Add the product name to the \"customer_orders\" set.\n",
    "    \n",
    "    c. Ask the user if they want to add another product (yes/no).\n",
    "    \n",
    "    d. Continue the loop until the user does not want to add another product.\n",
    "\n",
    "3. Instead of updating the inventory by subtracting 1 from the quantity of each product, only do it for  the products that were ordered (those in \"customer_orders\")."
   ]
  },
  {
   "cell_type": "code",
   "execution_count": 11,
   "metadata": {},
   "outputs": [
    {
     "data": {
      "text/plain": [
       "list"
      ]
     },
     "execution_count": 11,
     "metadata": {},
     "output_type": "execute_result"
    }
   ],
   "source": [
    "#1. Define a list called `products` that contains the following items: \"t-shirt\", \"mug\", \"hat\", \"book\", \"keychain\".\n",
    "\n",
    "products = [\"t-shirt\", \"mug\", \"hat\", \"book\", \"keychain\"]\n",
    "type(products)"
   ]
  },
  {
   "cell_type": "code",
   "execution_count": 12,
   "metadata": {},
   "outputs": [
    {
     "data": {
      "text/plain": [
       "dict"
      ]
     },
     "execution_count": 12,
     "metadata": {},
     "output_type": "execute_result"
    }
   ],
   "source": [
    "#2. Create an empty dictionary called `inventory`.\n",
    "\n",
    "inventory={}\n",
    "type(inventory)"
   ]
  },
  {
   "cell_type": "code",
   "execution_count": 13,
   "metadata": {},
   "outputs": [
    {
     "name": "stdout",
     "output_type": "stream",
     "text": [
      "{'t-shirt': 10, 'mug': 10, 'hat': 10, 'book': 10, 'keychain': 10}\n"
     ]
    }
   ],
   "source": [
    "#3. Ask the user to input the quantity of each product available in the inventory. Use the product names from the `products` list as keys in the `inventory` dictionary and assign the respective quantities as values.\n",
    "\n",
    "for i in products:\n",
    "    temp = int(input(f\"input the {i} of product\"))\n",
    "    inventory[i] = temp\n",
    "\n",
    "print(inventory)"
   ]
  },
  {
   "cell_type": "code",
   "execution_count": 25,
   "metadata": {},
   "outputs": [
    {
     "data": {
      "text/plain": [
       "{'t-shirt': 10, 'mug': 9, 'hat': 10, 'book': 9, 'keychain': 9}"
      ]
     },
     "execution_count": 25,
     "metadata": {},
     "output_type": "execute_result"
    }
   ],
   "source": [
    "inventory"
   ]
  },
  {
   "cell_type": "code",
   "execution_count": 30,
   "metadata": {},
   "outputs": [
    {
     "name": "stdout",
     "output_type": "stream",
     "text": [
      "{'book', 't-shirt', 'mug', 'hat'}\n"
     ]
    },
    {
     "data": {
      "text/plain": [
       "set"
      ]
     },
     "execution_count": 30,
     "metadata": {},
     "output_type": "execute_result"
    }
   ],
   "source": [
    "#5. Ask the user to input the name of three products that a customer wants to order (from those in the products list, meaning three products out of \"t-shirt\", \"mug\", \"hat\", \"book\" or \"keychain\". Add each product name to the `customer_orders` set.\n",
    "\n",
    "customer_orders = set()\n",
    "decision = 'yes'\n",
    "\n",
    "while decision == 'yes':\n",
    "    product = input(\"Please enter your product t-shirt, mug, hat, book, keychain\")\n",
    "    if product not in products:\n",
    "        print(\"KeyError introduce a valid product!\")\n",
    "    else:\n",
    "        if product not in customer_orders:\n",
    "            customer_orders.add(product)\n",
    "            decision = input(\"Product added, say yes if you want another product\")\n",
    "        else:\n",
    "            print(f\"Product already ordered {product}\")\n",
    "\n",
    "\n",
    "print(customer_orders)\n",
    "type(customer_orders)\n"
   ]
  },
  {
   "cell_type": "code",
   "execution_count": 31,
   "metadata": {},
   "outputs": [
    {
     "name": "stdout",
     "output_type": "stream",
     "text": [
      "4\n",
      "47\n",
      "8.51063829787234\n",
      "(4, 8.51063829787234)\n",
      "dict_values([10, 9, 10, 9, 9])\n"
     ]
    }
   ],
   "source": [
    "#7. Calculate the following order statistics:\n",
    "   #- Total Products Ordered: The total number of products in the `customer_orders` set.\n",
    "   #- Percentage of Products Ordered: The percentage of products ordered compared to the total available products.\n",
    "   \n",
    "   #Store these statistics in a tuple called `order_status`.\n",
    "\n",
    "\n",
    "user_stock = len(customer_orders)\n",
    "products_stock = inventory.values()\n",
    "all_stock = sum(products_stock)\n",
    "\n",
    "    \n",
    "percentage = (user_stock / all_stock)*100\n",
    "\n",
    "order_status= (user_stock, percentage)\n",
    "\n",
    "print(user_stock)\n",
    "print(all_stock)\n",
    "print(percentage)\n",
    "print(order_status)\n",
    "\n",
    "print(products_stock)\n"
   ]
  },
  {
   "cell_type": "code",
   "execution_count": 32,
   "metadata": {},
   "outputs": [
    {
     "name": "stdout",
     "output_type": "stream",
     "text": [
      "{'t-shirt': 10, 'mug': 9, 'hat': 10, 'book': 9, 'keychain': 9}\n"
     ]
    }
   ],
   "source": [
    "print(inventory)"
   ]
  },
  {
   "cell_type": "code",
   "execution_count": 33,
   "metadata": {},
   "outputs": [
    {
     "data": {
      "text/plain": [
       "{'book', 'hat', 'mug', 't-shirt'}"
      ]
     },
     "execution_count": 33,
     "metadata": {},
     "output_type": "execute_result"
    }
   ],
   "source": [
    "customer_orders"
   ]
  },
  {
   "cell_type": "code",
   "execution_count": 43,
   "metadata": {},
   "outputs": [
    {
     "name": "stdout",
     "output_type": "stream",
     "text": [
      "out of Stock\n",
      "out of Stock\n",
      "{'t-shirt': 0, 'mug': 0, 'hat': 0, 'book': 0, 'keychain': 9}\n"
     ]
    }
   ],
   "source": [
    "#9. Update the inventory by subtracting 1 from the quantity of each product ORDERED by the customer. Modify the `inventory` dictionary accordingly.\n",
    "\n",
    "for item in customer_orders:\n",
    "        if inventory[item] < 1:\n",
    "            print(\"out of Stock\")\n",
    "        else:\n",
    "            inventory[item]-=1 \n",
    "    \n",
    "print(inventory)\n"
   ]
  },
  {
   "cell_type": "code",
   "execution_count": 44,
   "metadata": {},
   "outputs": [
    {
     "name": "stdout",
     "output_type": "stream",
     "text": [
      "you have 0 of t-shirt\n",
      "you have 0 of mug\n",
      "you have 0 of hat\n",
      "you have 0 of book\n",
      "you have 9 of keychain\n"
     ]
    }
   ],
   "source": [
    "#10. Print the updated inventory, displaying the quantity of each product on separate lines.\n",
    "for key, value in inventory.items():\n",
    "    print(f\"you have {value} of {key}\")\n"
   ]
  },
  {
   "cell_type": "code",
   "execution_count": 45,
   "metadata": {},
   "outputs": [
    {
     "data": {
      "text/plain": [
       "{'t-shirt': 0, 'mug': 0, 'hat': 0, 'book': 0, 'keychain': 9}"
      ]
     },
     "execution_count": 45,
     "metadata": {},
     "output_type": "execute_result"
    }
   ],
   "source": [
    "\n",
    "inventory\n",
    "#Solve the exercise by implementing the steps using the Python concepts of lists, dictionaries, sets, and basic input/output operations. "
   ]
  }
 ],
 "metadata": {
  "kernelspec": {
   "display_name": "Python 3 (ipykernel)",
   "language": "python",
   "name": "python3"
  },
  "language_info": {
   "codemirror_mode": {
    "name": "ipython",
    "version": 3
   },
   "file_extension": ".py",
   "mimetype": "text/x-python",
   "name": "python",
   "nbconvert_exporter": "python",
   "pygments_lexer": "ipython3",
   "version": "3.12.3"
  }
 },
 "nbformat": 4,
 "nbformat_minor": 4
}
